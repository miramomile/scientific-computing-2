{
  "nbformat": 4,
  "nbformat_minor": 0,
  "metadata": {
    "colab": {
      "provenance": [],
      "authorship_tag": "ABX9TyPCgk43lHcmJWY8yMQc7iDe",
      "include_colab_link": true
    },
    "kernelspec": {
      "name": "python3",
      "display_name": "Python 3"
    },
    "language_info": {
      "name": "python"
    }
  },
  "cells": [
    {
      "cell_type": "markdown",
      "metadata": {
        "id": "view-in-github",
        "colab_type": "text"
      },
      "source": [
        "<a href=\"https://colab.research.google.com/github/miramomile/scientific-computing-2/blob/main/AOL1.ipynb\" target=\"_parent\"><img src=\"https://colab.research.google.com/assets/colab-badge.svg\" alt=\"Open In Colab\"/></a>"
      ]
    },
    {
      "cell_type": "code",
      "execution_count": 2,
      "metadata": {
        "colab": {
          "base_uri": "https://localhost:8080/",
          "height": 211
        },
        "id": "_zOTx6MrgEWn",
        "outputId": "596ffbbc-5cfb-4bdf-a181-a28c3bc5fad0"
      },
      "outputs": [
        {
          "output_type": "error",
          "ename": "NameError",
          "evalue": "name 'data' is not defined",
          "traceback": [
            "\u001b[0;31m---------------------------------------------------------------------------\u001b[0m",
            "\u001b[0;31mNameError\u001b[0m                                 Traceback (most recent call last)",
            "\u001b[0;32m<ipython-input-2-b5e7a6e52418>\u001b[0m in \u001b[0;36m<cell line: 7>\u001b[0;34m()\u001b[0m\n\u001b[1;32m      5\u001b[0m \u001b[0;34m\u001b[0m\u001b[0m\n\u001b[1;32m      6\u001b[0m \u001b[0;31m# Reshape the data to have a single column with monthly production values\u001b[0m\u001b[0;34m\u001b[0m\u001b[0;34m\u001b[0m\u001b[0m\n\u001b[0;32m----> 7\u001b[0;31m \u001b[0mdata_reshaped\u001b[0m \u001b[0;34m=\u001b[0m \u001b[0mdata\u001b[0m\u001b[0;34m.\u001b[0m\u001b[0mvalues\u001b[0m\u001b[0;34m.\u001b[0m\u001b[0mflatten\u001b[0m\u001b[0;34m(\u001b[0m\u001b[0;34m)\u001b[0m\u001b[0;34m\u001b[0m\u001b[0;34m\u001b[0m\u001b[0m\n\u001b[0m\u001b[1;32m      8\u001b[0m \u001b[0;34m\u001b[0m\u001b[0m\n\u001b[1;32m      9\u001b[0m \u001b[0;31m# Generate a time index for the months\u001b[0m\u001b[0;34m\u001b[0m\u001b[0;34m\u001b[0m\u001b[0m\n",
            "\u001b[0;31mNameError\u001b[0m: name 'data' is not defined"
          ]
        }
      ],
      "source": [
        "import numpy as np\n",
        "import matplotlib.pyplot as plt\n",
        "from sklearn.preprocessing import PolynomialFeatures\n",
        "from sklearn.linear_model import LinearRegression\n",
        "\n",
        "# Reshape the data to have a single column with monthly production values\n",
        "data_reshaped = data.values.flatten()\n",
        "\n",
        "# Generate a time index for the months\n",
        "time_index = np.arange(1, len(data_reshaped) + 1).reshape(-1, 1)\n",
        "\n",
        "# Fit a polynomial regression model\n",
        "degree = 3  # Using a cubic polynomial for a better fit than linear\n",
        "poly_features = PolynomialFeatures(degree=degree)\n",
        "time_index_poly = poly_features.fit_transform(time_index)\n",
        "\n",
        "poly_reg_model = LinearRegression()\n",
        "poly_reg_model.fit(time_index_poly, data_reshaped)\n",
        "\n",
        "# Predict the production values using the polynomial model\n",
        "predicted_production = poly_reg_model.predict(time_index_poly)\n",
        "\n",
        "# Plot the actual vs predicted production values\n",
        "plt.figure(figsize=(12, 6))\n",
        "plt.plot(time_index, data_reshaped, label='Actual Production')\n",
        "plt.plot(time_index, predicted_production, label='Polynomial Trend (degree=3)', color='red')\n",
        "plt.xlabel('Month')\n",
        "plt.ylabel('Production')\n",
        "plt.title('Monthly Bag Production with Polynomial Trend')\n",
        "plt.legend()\n",
        "plt.show()\n",
        "\n",
        "# Print the polynomial coefficients\n",
        "poly_reg_model.coef_, poly_reg_model.intercept_\n"
      ]
    }
  ]
}